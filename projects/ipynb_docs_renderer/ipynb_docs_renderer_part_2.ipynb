{
 "cells": [
  {
   "cell_type": "markdown",
   "source": [
    "<div dir=\"rtl\">\r\n",
    "       <h1>تبدیل فایل های IPYNB به HTML و استقرار خودکار در github-pages (بخش دوم)</h1>\r\n",
    "</div><br/>"
   ],
   "metadata": {}
  },
  {
   "cell_type": "markdown",
   "source": [
    "<div dir=\"rtl\">\r\n",
    "       به بخش دوم مقاله خوش اومدید. تو این بخش قراره ببینیم که چطوری میشه با استفاده از گیت هاب اکشن از اسکریپتی که تو <a href=\"https://vrgl.ir/oAqXx\" target=\"_blank\" rel=\"noopener nofollow\">بخش اول این مقاله</a> نوشتیم به صورت خودکار استفاده کنیم.\r\n",
    "</div><br/>"
   ],
   "metadata": {}
  },
  {
   "cell_type": "markdown",
   "source": [
    "<div dir=\"rtl\">\r\n",
    "      نحوه عملکرد این اکشن به این شکله که شما هربار تغییراتی رو روی <strong>مخزن (repository)</strong> موردنظر پوش میکنید، چک میکنه که آیا فایل های با فرمت <strong>ipynb </strong>تغییر کردند یا خیر. اگر تغییری در اونا صورت نگرفته باشه که اتفاقی نمیوفته ولی اگه تغییر کرده باشن اسکریپتی که تو بخش اول نوشتیم رو اجرا میکنه. یعنی فایل های نوت بوک رو به فایل های <strong>HTML </strong>تبدیل میکنه و اونا رو به دایرکتوری تعیین شده برای <a href=\"https://pages.github.com/\" target=\"_blank\" rel=\"noopener nofollow\">github pages</a> منتقل میکنه.\r\n",
    "</div><br/>"
   ],
   "metadata": {}
  },
  {
   "cell_type": "markdown",
   "source": [
    "<div dir=\"rtl\">\r\n",
    "       <h2>سرویس github actions چیه؟</h2>\r\n",
    "</div><br/>"
   ],
   "metadata": {}
  },
  {
   "cell_type": "markdown",
   "source": [
    "<div dir=\"rtl\">\r\n",
    "       هدف این سرویس اتوماتیک کردن برخی فرایندهاست، مثل تست، استقرار (deploy) و ...؛ گیت هاب اکشن <strong>رویداد محور (event-driven)</strong> هستش، یعنی زمانی که رویداد خاصی مثل پوش اتفاق بیوفته یک سری کارهایی که تعیین کردیم رو انجام میده.\r\n",
    "</div><br/>"
   ],
   "metadata": {}
  },
  {
   "cell_type": "markdown",
   "source": [
    "<div dir=\"rtl\">\r\n",
    "      اگه دوست دارید بیشتر با این سرویس آشنا بشید میتونید به <a href=\"https://docs.github.com/en/actions\" target=\"_blank\" rel=\"noopener nofollow\">داکیومنت اصلی گیت هاب اکشن</a> مراجعه کنید.\r\n",
    "</div><br/>"
   ],
   "metadata": {}
  },
  {
   "cell_type": "markdown",
   "source": [
    "<hr style=\"background-color: floralwhite;\" />"
   ],
   "metadata": {}
  },
  {
   "cell_type": "markdown",
   "source": [
    "<div dir=\"rtl\">\r\n",
    "       اکشنی که قراره بنویسیم رو میتونین از <a href=\"https://github.com/iranipy/iranipy\" target=\"_blank\" rel=\"noopener nofollow\">مخزن اصلی گیت هاب ایرانی پای</a> بردارید.\r\n",
    "       <ul><li><a href=\"https://github.com/iranipy/iranipy/blob/main/projects/ipynb_docs_renderer/github-action/ipynb_docs_renderer.yml\" target=\"_blank\" rel=\"noopener nofollow\">مشاهده اکشن</a></li><li><a href=\"https://github.com/iranipy/iranipy/tree/main/projects/ipynb_docs_renderer\" target=\"_blank\" rel=\"noopener nofollow\">مشاهده پروژه</a> (شامل همه کدهای نوشته شده و فایلهای راهنما)</li></ul>\r\n",
    "</div><br/>"
   ],
   "metadata": {}
  },
  {
   "cell_type": "markdown",
   "source": [
    "<hr style=\"background-color: floralwhite;\" />"
   ],
   "metadata": {}
  },
  {
   "cell_type": "markdown",
   "source": [
    "<div dir=\"rtl\">\r\n",
    "    <h2>جریان کار (workflow)</h2>\r\n",
    "</div><br/>"
   ],
   "metadata": {}
  },
  {
   "cell_type": "markdown",
   "source": [
    "<div dir=\"rtl\">\r\n",
    "    برای استفاده از این ویژگی باید از یک سری قوانین پیروی کنیم. یکی از این قوانین قرار دادن فایل اکشن تو دایرکتوری ای هست که خود گیت هاب گفته. اول از همه لازمه که یک دابرکتوری به اسم <strong>github.</strong> تو مخزنمون ایجاد کنیم. حالا تو این دایرکتوری یک دایرکتوری دیگه به اسم <strong>workflows </strong>درست میکنیم. حالا تو این دایرکتوری یک فایل به اسم <strong>ipynb_docs_renderer.yml </strong>میسازیم. اسم فایل دلخواهه و قراره جلوتر ازش استفاده کنیم ولی پسوندش باید حتما yml باشه.\r\n",
    "</div><br/>"
   ],
   "metadata": {}
  },
  {
   "cell_type": "markdown",
   "source": [
    "<div dir=\"rtl\">\r\n",
    "   پس ساختار <strong>مخزن (repository)</strong> اینجوری شد:\r\n",
    "</div><br/>"
   ],
   "metadata": {}
  },
  {
   "cell_type": "markdown",
   "source": [
    "```\r\n",
    "./repository/\r\n",
    "│\r\n",
    "├── .github/\r\n",
    "     ├── workflows/\r\n",
    "         ├── ipynb_docs_renderer.yml\r\n",
    "```"
   ],
   "metadata": {}
  },
  {
   "cell_type": "markdown",
   "source": [
    "<div dir=\"rtl\">\r\n",
    "    <h2>اکشن (action)</h2>\r\n",
    "</div>"
   ],
   "metadata": {}
  },
  {
   "cell_type": "markdown",
   "source": [
    "```\r\n",
    "name: ipynb documents renderer\r\n",
    "on:\r\n",
    "  push:\r\n",
    "    paths:\r\n",
    "       - '**.ipynb'\r\n",
    "jobs:\r\n",
    "  build:\r\n",
    "    runs-on: ubuntu-latest\r\n",
    "    strategy:\r\n",
    "      matrix:\r\n",
    "        python-version: [3.8]\r\n",
    "  steps:\r\n",
    "     - uses: actions/checkout@v2\r\n",
    "     - name: Set up Python ${{ matrix.python-version }}\r\n",
    "       uses: actions/setup-python@v2\r\n",
    "         with:\r\n",
    "           python-version: ${{ matrix.python-version }}\r\n",
    "        - name: install dependencies\r\n",
    "        run: |\r\n",
    "          python -m pip install --upgrade pip\r\n",
    "          python ipynb_docs_renderer.py install-dependencies\r\n",
    "       - name: convert ipynb documents to html\r\n",
    "       run: |\r\n",
    "          python ipynb_docs_renderer.py render    \r\n",
    "      - name: commit and push changes\r\n",
    "       run: |\r\n",
    "         python ipynb_docs_renderer.py commit-push\r\n",
    "```"
   ],
   "metadata": {}
  },
  {
   "cell_type": "markdown",
   "source": [
    "<div dir=\"rtl\">\r\n",
    "       این محتوای فایل <strong>yml </strong>هستش که تو مرحله قبل ساختیم. خب بریم ببینیم هر قسمتش چه کاری انجام میده.\r\n",
    "</div><br/>"
   ],
   "metadata": {}
  },
  {
   "cell_type": "markdown",
   "source": [
    "<div dir=\"rtl\">\r\n",
    "       <strong>name</strong>\r\n",
    "</div><br/>"
   ],
   "metadata": {}
  },
  {
   "cell_type": "markdown",
   "source": [
    "<div dir=\"rtl\">\r\n",
    "       کاملا اختیاریه. اسمیه که تو تب <strong>actions </strong>مخزن تو گیت هاب نشون میده.\r\n",
    "</div><br/>"
   ],
   "metadata": {}
  },
  {
   "cell_type": "markdown",
   "source": [
    "<div dir=\"rtl\">\r\n",
    "       <strong>on</strong>\r\n",
    "</div><br/>"
   ],
   "metadata": {}
  },
  {
   "cell_type": "markdown",
   "source": [
    "<div dir=\"rtl\">\r\n",
    "       رویدادی که میخوایم بعد از اتفاق افتادنش <strong>job </strong>اجرا بشه رو اینجا مینویسیم. اینجا ما نوشتم <strong>push </strong>پس سر هر بار پوش شدن <strong>job </strong>اجرا میشه. ولی یک شرط دیگه هم اضافه کردیم: <strong>paths</strong>. اینجا مشخص میکنیم که اگه کدوم دایرکتوری ها یا فایل ها تغییر کردن <strong>job </strong>رو اجرا کنه. اینجا نوشتیم <strong>ipynb.**</strong> که یعنی تو هر دایرکتوری و ساب دارکتوری ای فایلی با فرمت <strong>ipynb </strong>تغییر کرد <strong>job </strong>رو اجرا کن.\r\n",
    "</div><br/>"
   ],
   "metadata": {}
  },
  {
   "cell_type": "markdown",
   "source": [
    "<div dir=\"rtl\">\r\n",
    "       <strong>jobs</strong>\r\n",
    "</div><br/>"
   ],
   "metadata": {}
  },
  {
   "cell_type": "markdown",
   "source": [
    "<div dir=\"rtl\">\r\n",
    "       تمام کارایی که قراره با هر بار اجرا شدن این اکشن انجام بشه رو اینجا مینویسیم.\r\n",
    "</div><br/>"
   ],
   "metadata": {}
  },
  {
   "cell_type": "markdown",
   "source": [
    "<div dir=\"rtl\">\r\n",
    "       <strong>build</strong>\r\n",
    "</div><br/>"
   ],
   "metadata": {}
  },
  {
   "cell_type": "markdown",
   "source": [
    "<div dir=\"rtl\">\r\n",
    "      اطلاعات سیستم عامل و نسخه پایتونی که میخوایم برای این <strong>job </strong>استفاده کنیم رو اینجا مینویسیم.\r\n",
    "</div><br/>"
   ],
   "metadata": {}
  },
  {
   "cell_type": "markdown",
   "source": [
    "<div dir=\"rtl\">\r\n",
    "       <strong>runs-on</strong>\r\n",
    "</div><br/>"
   ],
   "metadata": {}
  },
  {
   "cell_type": "markdown",
   "source": [
    "<div dir=\"rtl\">\r\n",
    "       اینجا مشخض میکنیم که از چه سیستم عاملی و چه نسخه ای از اون سیستم عامل میخوایم استفاده کنیم. ما از <strong>ubuntu-latest</strong> استفاده کردیم، یعنی آخرین نسخه سیستم عامل ابونتو. امکان انتخاب چند تا سیستم عامل هم وجود داره.\r\n",
    "</div><br/>"
   ],
   "metadata": {}
  },
  {
   "cell_type": "markdown",
   "source": [
    "<div dir=\"rtl\">\r\n",
    "       <strong>strategy</strong>\r\n",
    "</div><br/>"
   ],
   "metadata": {}
  },
  {
   "cell_type": "markdown",
   "source": [
    "<div dir=\"rtl\">\r\n",
    "      تو این بخش نسخه پایتونی که میخوایم استفاده کنیم رو مشخض کردیم. میتونید برای هر <strong>job </strong>چند تا نسخه مختلف پایتون هم در نظر بگیرید.\r\n",
    "</div><br/>"
   ],
   "metadata": {}
  },
  {
   "cell_type": "markdown",
   "source": [
    "<div dir=\"rtl\">\r\n",
    "       <strong>steps</strong>\r\n",
    "</div><br/>"
   ],
   "metadata": {}
  },
  {
   "cell_type": "markdown",
   "source": [
    "<div dir=\"rtl\">\r\n",
    "       تمامی دستوراتی که قراره اجرا بشن رو اینجا مینویسیم. هر آیتمی که اینجا بنویسیم تو یک <strong>shell</strong> جداگونه اجرا میکنه.\r\n",
    "</div><br/>"
   ],
   "metadata": {}
  },
  {
   "cell_type": "markdown",
   "source": [
    "<div dir=\"rtl\">\r\n",
    "       <strong>uses: actions/checkout@v2 </strong>\r\n",
    "</div><br/>"
   ],
   "metadata": {}
  },
  {
   "cell_type": "markdown",
   "source": [
    "<div dir=\"rtl\">\r\n",
    "       اینجا گفتیم که از نسخه شماره 2 اکشن ها استفاده کن. این اکشن با دانلود کردن <strong>مخزن (repository) </strong>موردنظر، اجازه میده که کارای مختلف رو کدهای موجود تو اون <strong>مخزن (repository) </strong>انجام بدیم. همیشه از همین نسخه باید استفاده بشه (طبق اسناد موجود در سایت گیت هاب).\r\n",
    "</div><br/>"
   ],
   "metadata": {}
  },
  {
   "cell_type": "markdown",
   "source": [
    "<div dir=\"rtl\">\r\n",
    "       <strong>name: Set up Python ${{ matrix.python-version }} </strong>\r\n",
    "</div><br/>"
   ],
   "metadata": {}
  },
  {
   "cell_type": "markdown",
   "source": [
    "<div dir=\"rtl\">\r\n",
    "       اسم <strong>step </strong>ای که میخوایم اجرا کنیم رو اینجوری مشخص میکنیم. <strong>{{ matrix.python-version }}</strong> معادل نسخه پایتونی هست که تو <strong>matrix </strong>مشخص کردیم.\r\n",
    "</div><br/>"
   ],
   "metadata": {}
  },
  {
   "cell_type": "markdown",
   "source": [
    "<div dir=\"rtl\">\r\n",
    "       <strong>uses: actions/setup-python@v2</strong><br>\r\n",
    "</div><br/>"
   ],
   "metadata": {}
  },
  {
   "cell_type": "markdown",
   "source": [
    "<div dir=\"rtl\">\r\n",
    "       این اکشن یک محیط پایتون برامون فراهم میکنه.\r\n",
    "</div><br/>"
   ],
   "metadata": {}
  },
  {
   "cell_type": "markdown",
   "source": [
    "<div dir=\"rtl\">\r\n",
    "       <strong>with: python-version: ${{ matrix.python-version }} </strong>\r\n",
    "</div><br/>"
   ],
   "metadata": {}
  },
  {
   "cell_type": "markdown",
   "source": [
    "<div dir=\"rtl\">\r\n",
    "       مقدار متغیر <strong>python-version</strong> رو معادل نسخه پایتون استفاده شده قرار میده.\r\n",
    "</div><br/>"
   ],
   "metadata": {}
  },
  {
   "cell_type": "markdown",
   "source": [
    "<div dir=\"rtl\">\r\n",
    "     <strong>name: install dependencies</strong>\r\n",
    "</div><br/>"
   ],
   "metadata": {}
  },
  {
   "cell_type": "markdown",
   "source": [
    "<div dir=\"rtl\">\r\n",
    "       اسم <strong>step </strong>بعدی رو تعیین میکنه.\r\n",
    "</div><br/>"
   ],
   "metadata": {}
  },
  {
   "cell_type": "markdown",
   "source": [
    "<div dir=\"rtl\">\r\n",
    "       <strong>run</strong>\r\n",
    "</div><br/>"
   ],
   "metadata": {}
  },
  {
   "cell_type": "markdown",
   "source": [
    "<div dir=\"rtl\">\r\n",
    "      دستوری که میخوایم تو <strong>shell </strong>اجرا بشه رو اینجا مینویسیم. هر دستوری میتونه باشه فقط باید تو سیستم عامل انتخابی معتبر باشه.\r\n",
    "</div><br/>"
   ],
   "metadata": {}
  },
  {
   "cell_type": "markdown",
   "source": [
    "<div dir=\"rtl\">\r\n",
    "       اینجا اول <strong>pip </strong>رو نصب و آپگرید میکنیم. بعد هر بار قستمی از فایل نوشته شده در <a href=\"https://vrgl.ir/oAqXx\" target=\"_blank\" rel=\"noopener nofollow\">بخش اول این مقاله</a> رو اجرا میکنیم.\r\n",
    "</div><br/>"
   ],
   "metadata": {}
  },
  {
   "cell_type": "markdown",
   "source": [
    "<hr style=\"background-color: floralwhite;\" />"
   ],
   "metadata": {}
  },
  {
   "cell_type": "markdown",
   "source": [
    "<br/><div dir=\"rtl\">\r\n",
    "    تو این پست ایرانی پای دیدید که چجوری یک <strong>workflow </strong>تو گیت هاب راه بندازیم و با استفاده از اون کارای تکراری و خسته کننده مون رو به صورت خودکار انجام بدیم، تا هم تو وقت صرفه جویی کرده باشیم هم احتمال اشتباه کردن رو پایین آورده باشیم. با استفاده از این سرویسهای کاربردی گیت هاب کارای خیلی زیادی میشه انجام داد. خوبه که بلد باشید، حتما به کارتون میاد.\r\n",
    "</div><br/>"
   ],
   "metadata": {}
  },
  {
   "cell_type": "markdown",
   "source": [
    "<div dir=\"rtl\">\r\n",
    "    امیدوارم از این پست دو بخشی استفاده کافی رو برده باشید. اگه شما هم مثل ما از خوندن مطالب پایتونی لذت میبرید، خوشحال میشیم ما رو تو شبکه های اجتماعی دنبال و در صورت داشتن انتقاد و پیشنهاد ما رو ازش مطلع کنید. لایک هم یادتون نره :)<\r\n",
    "</div><br/>"
   ],
   "metadata": {}
  },
  {
   "cell_type": "markdown",
   "source": [
    "<div dir=\"rtl\">\r\n",
    "    <strong>اگه با فعال سازی و نحوه استفاده از <a href=\"https://pages.github.com/\" target=\"_blank\" rel=\"noopener nofollow\">github pages</a> مشکلی دارید، توصیه میشه به این <a href=\"https://www.instagram.com/p/CUhvC00oACZ/?utm_source=ig_web_copy_link\" target=\"_blank\" rel=\"noopener nofollow\">پست اینستاگرام</a>، ایرانی پای سر بزنید.</strong>\r\n",
    "</div><br/>"
   ],
   "metadata": {}
  },
  {
   "cell_type": "markdown",
   "source": [
    "<hr style=\"background-color: floralwhite;\" />"
   ],
   "metadata": {}
  },
  {
   "cell_type": "markdown",
   "source": [
    "<br/><div dir=\"rtl\">\r\n",
    "    <h4><strong>حمایت از ما</strong></h4>\r\n",
    "</div><br/>"
   ],
   "metadata": {}
  },
  {
   "cell_type": "markdown",
   "source": [
    "<div dir=\"rtl\">\n",
    "    با دنبال کردن ما در\n",
    "</div>"
   ],
   "metadata": {}
  },
  {
   "cell_type": "markdown",
   "source": [
    "<div dir=\"rtl\">\r\n",
    "    <ul><li><a href=\"https://github.com/iranipy\" target=\"_blank\" rel=\"noopener nofollow\">github</a></li><li><a href=\"https://t.me/iranipy\" target=\"_blank\" rel=\"noopener nofollow\">telegram</a></li><li><a href=\"https://instagram.com/iranipy\" target=\"_blank\" rel=\"noopener nofollow\">instagram</a> </li><li><a href=\"https://twitter.com/_iranipy\" target=\"_blank\" rel=\"noopener nofollow\">twitter</a> </li></ul>\r\n",
    "</div>"
   ],
   "metadata": {}
  },
  {
   "cell_type": "markdown",
   "source": [
    "<div dir=\"rtl\">\n",
    "    یا کمک مالی به مبلغ دلخواه از طریق <a href=\"https://idpay.ir/iranipy\" target=\"_blank\" rel=\"noopener nofollow\">درگاه آیدی پی</a> میتونید از ما حمایت کنید.\n",
    "</div>"
   ],
   "metadata": {}
  },
  {
   "cell_type": "markdown",
   "source": [
    "<div dir=\"rtl\">\n",
    "    <strong>وب سایت (به زودی):</strong> <a href=\"https://iranipy.ir/\" target=\"_blank\" rel=\"noopener nofollow\">iranipy.ir</a>\n",
    "</div>"
   ],
   "metadata": {}
  }
 ],
 "metadata": {
  "kernelspec": {
   "name": "python3",
   "display_name": "Python 3.8.3 64-bit ('base': conda)"
  },
  "language_info": {
   "codemirror_mode": {
    "name": "ipython",
    "version": 3
   },
   "file_extension": ".py",
   "mimetype": "text/x-python",
   "name": "python",
   "nbconvert_exporter": "python",
   "pygments_lexer": "ipython3",
   "version": "3.8.3"
  },
  "interpreter": {
   "hash": "a707b6ce8c685eb936424fcc3009d4b4b7a52543c4db09380a3fc49186ceb509"
  }
 },
 "nbformat": 4,
 "nbformat_minor": 5
}