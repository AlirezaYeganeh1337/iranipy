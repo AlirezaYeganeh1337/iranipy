{
 "cells": [
  {
   "cell_type": "markdown",
   "source": [
    "<div dir=\"rtl\">\r\n",
    "    <h1>مدیریت بسته پایتون (python package management) با poetry (بخش اول)</h1>\r\n",
    "</div><br/>"
   ],
   "metadata": {}
  },
  {
   "cell_type": "markdown",
   "source": [
    "<div dir=\"rtl\">\r\n",
    "    از ابزار <a href=\"https://python-poetry.org/\" target=\"_blank\" rel=\"noopener nofollow\">Poetry </a>برای مدیریت <strong>وابستگی (dependency)</strong> و <strong>بسته بندی (packaging)</strong> در پایتون استقاده میشه؛ کافیه بسته هایی رو که پروژه مون بهش وابسته ست رو تعیین کنیم تا برامون مدیریتشون (نصب/بروز رسانی) کنه و در نهایت با استفاده از <strong>محیط مجازی (virtual environment) </strong>پروژه (اسکریپت) مورد نظر رو اجرا کنه.\r\n",
    "</div><br/>"
   ],
   "metadata": {}
  },
  {
   "cell_type": "markdown",
   "source": [
    "<hr style=\"background-color: floralwhite;\" />"
   ],
   "metadata": {}
  },
  {
   "cell_type": "markdown",
   "source": [
    "<br/><div dir=\"rtl\">\r\n",
    "    پروژه نمونه ای که قراره پیاده کنیم رو میتونین از <a href=\"https://github.com/iranipy/iranipy\" target=\"_blank\" rel=\"noopener nofollow\">مخزن اصلی گیت هاب ایرانی پای</a> بردارید.\r\n",
    "    <ul><li><a href=\"https://github.com/iranipy/iranipy/tree/main/projects/poetry/poetry_demo\" target=\"_blank\" rel=\"noopener nofollow\">مشاهده پروژه نمونه poetry_demo</a> (شامل تنظیمات <strong>poetry </strong>و اسکریپت نمونه برای تست)</li><li><a href=\"https://github.com/iranipy/iranipy/tree/main/projects/poetry\" target=\"_blank\" rel=\"noopener nofollow\">مشاهده پروژه</a> (شامل همه کدهای نوشته شده و فایلهای راهنما)</li></ul>\r\n",
    "</div> <br/>"
   ],
   "metadata": {}
  },
  {
   "cell_type": "markdown",
   "source": [
    "<hr style=\"background-color: floralwhite;\" />"
   ],
   "metadata": {}
  },
  {
   "cell_type": "markdown",
   "source": [
    "<br/><div dir=\"rtl\">\r\n",
    "    <h2>الزامات سیستم</h2>\r\n",
    "</div><br/>"
   ],
   "metadata": {}
  },
  {
   "cell_type": "markdown",
   "source": [
    "<div dir=\"rtl\">\r\n",
    "    در حال حاضر ابزار <strong>Poetry</strong> به پایتون 2.7 یا 3.5 به بالا نیاز داره و برای پلتفرم های پر استقاده <strong>(Windows، Linux و OSX)</strong> قابل استفاده ست.\r\n",
    "</div><br/>"
   ],
   "metadata": {}
  },
  {
   "cell_type": "markdown",
   "source": [
    "<hr style=\"background-color: floralwhite;\" />"
   ],
   "metadata": {}
  },
  {
   "cell_type": "markdown",
   "source": [
    "<br/><div dir=\"rtl\">\r\n",
    "    <h2>نصب Poetry</h2>\r\n",
    "</div><br/>"
   ],
   "metadata": {}
  },
  {
   "cell_type": "markdown",
   "source": [
    "<div dir=\"rtl\">\r\n",
    "    <ul><li>نصب روی <strong>osx </strong>و <strong>linux </strong>(یا با استفاده از <strong>bash </strong>تو <strong>windows</strong>)</li></ul>\r\n",
    "</div>"
   ],
   "metadata": {}
  },
  {
   "cell_type": "markdown",
   "source": [
    "```curl -sSL https://raw.githubusercontent.com/python-poetry/poetry/master/get-poetry.py | python -```"
   ],
   "metadata": {}
  },
  {
   "cell_type": "markdown",
   "source": [
    "<div dir=\"rtl\">\r\n",
    "    <ul><li>نصب روی <strong>windows </strong>با استفاده از <strong>powershell</strong></li></ul>\r\n",
    "</div>"
   ],
   "metadata": {}
  },
  {
   "cell_type": "markdown",
   "source": [
    "```(Invoke-WebRequest -Uri https://raw.githubusercontent.com/python-poetry/poetry/master/get-poetry.py -UseBasicParsing).Content | python -```"
   ],
   "metadata": {}
  },
  {
   "cell_type": "markdown",
   "source": [
    "<br/><div dir=\"rtl\">\r\n",
    "    <strong>اسکریپت get-poetry.py که در دستورات بالا استفاده شده، تو نسخه 1.2 با install-poetry.py جایگزین میشه. از Poetry 1.1.7 به بعد، می تونید از این اسکریپت همینطور که توضیح داده شد استفاده کنید.</strong>\r\n",
    "</div><br/>"
   ],
   "metadata": {}
  },
  {
   "cell_type": "markdown",
   "source": [
    "<div dir=\"rtl\">\r\n",
    "    در نهایت با استفاده از دستور زیر میتونیم بررسی کنیم که <strong>Poetry </strong>درست نصب شده یا نه (ممکنه نصب شده باشه ولی <strong>مسیرش (path)</strong> به <strong>متغییر های محیطی (environment variables)</strong> اضافه نشده باشه).\r\n",
    "</div><br/>"
   ],
   "metadata": {}
  },
  {
   "cell_type": "markdown",
   "source": [
    "```poetry --version```"
   ],
   "metadata": {}
  },
  {
   "cell_type": "markdown",
   "source": [
    "<br/><div dir=\"rtl\">\r\n",
    "    به جز موارد گفته شده، امکان نصب <strong>Poetry </strong>از طریق سایر مدیر بسته ها مثل <strong>pip </strong>هم امکان پذیره (ولی پیشنهاد نمیشه).\r\n",
    "</div><br/>"
   ],
   "metadata": {}
  },
  {
   "cell_type": "markdown",
   "source": [
    "<div dir=\"rtl\">\r\n",
    "    برای مطالعه بیشتر در مورد شیوه های مختلف نصب و مراحلشون میتونید از <a href=\"https://python-poetry.org/docs/#installing-with-pip\" target=\"_blank\" rel=\"noopener nofollow\">مرجع اصلی</a> استفاده کنید.\r\n",
    "</div><br/>"
   ],
   "metadata": {}
  },
  {
   "cell_type": "markdown",
   "source": [
    "<hr style=\"background-color: floralwhite;\" />"
   ],
   "metadata": {}
  },
  {
   "cell_type": "markdown",
   "source": [
    "<br/><div dir=\"rtl\">\r\n",
    "    <h2>استفاده اولیه</h2>\r\n",
    "</div><br/>"
   ],
   "metadata": {}
  },
  {
   "cell_type": "markdown",
   "source": [
    "<div dir=\"rtl\">\r\n",
    "    برای معرفی کاربردهای اولیه، کتابخانه <a href=\"https://pendulum.eustace.io/\" target=\"_blank\" rel=\"noopener nofollow\">pendulum </a>رو نصب می کنیم.\r\n",
    "</div><br/>"
   ],
   "metadata": {}
  },
  {
   "cell_type": "markdown",
   "source": [
    "<div dir=\"rtl\">\r\n",
    "    <ul><li><strong>راه اندازی پروژه (ساخت پروژه جدید)</strong></li></ul>\r\n",
    "</div>"
   ],
   "metadata": {}
  },
  {
   "cell_type": "markdown",
   "source": [
    "<div dir=\"rtl\">\r\n",
    "    اول پروژه جدید با اسم <strong>poetry_demo</strong> میسازیم:\r\n",
    "</div><br/>"
   ],
   "metadata": {}
  },
  {
   "cell_type": "markdown",
   "source": [
    "```poetry new poetry_demo```"
   ],
   "metadata": {}
  },
  {
   "cell_type": "markdown",
   "source": [
    "<br/><div dir=\"rtl\">\r\n",
    "    با این کار پوشه <strong>poetry_demo </strong>با محتوای زیر ساخته میشه:\r\n",
    "</div><br/>"
   ],
   "metadata": {}
  },
  {
   "cell_type": "markdown",
   "source": [
    "```\r\n",
    "poetry_demo\r\n",
    "├── pyproject.toml\r\n",
    "├── README.rst\r\n",
    "├── poetry_demo\r\n",
    "│ └── __init__.py\r\n",
    "└── tests\r\n",
    "    ├── __init__.py\r\n",
    "    └── test_poetry_demo.py\r\n",
    "```"
   ],
   "metadata": {}
  },
  {
   "cell_type": "markdown",
   "source": [
    "<br/><div dir=\"rtl\">\r\n",
    "    چون فعلا قصد تست نوشتن برای پروژه مون نداریم، میتونیم مسیر <strong>tests/</strong> و محتویاتشو حذف کنیم. به فایل <strong>README.rst</strong> هم نیازی نداریم و حذفش میکنیم که در این صورت ساختار پروژه به صورت زیر میشه:\r\n",
    "</div><br/>"
   ],
   "metadata": {}
  },
  {
   "cell_type": "markdown",
   "source": [
    "```\r\n",
    "poetry_demo\r\n",
    "├── pyproject.toml\r\n",
    "└── poetry_demo\r\n",
    "    └── __init__.py\r\n",
    "```"
   ],
   "metadata": {}
  },
  {
   "cell_type": "markdown",
   "source": [
    "<br/><div dir=\"rtl\">\r\n",
    "    فایلی که بیشتر از بقیه برامون اهمیت داره، <strong>pyproject.toml</strong> هستش. ابزار <strong>Poetry </strong>با استفاده از این فایل پروژه و بسته هاش رو مدیریت می کنه. محتویات این فایل به صورت زیر هستش:\r\n",
    "</div><br/>"
   ],
   "metadata": {}
  },
  {
   "cell_type": "markdown",
   "source": [
    "```\r\n",
    "[tool.poetry]\r\n",
    "name = \"poetry_demo\"\r\n",
    "version = \"0.1.0\"\r\n",
    "description = \"\"\r\n",
    "authors = [\"iranipy <info@iranipy.ir>\"]\r\n",
    "\r\n",
    "[tool.poetry.dependencies]\r\n",
    "python = \"*\"\r\n",
    "\r\n",
    "[tool.poetry.dev-dependencies]\r\n",
    "pytest = \"^3.4\"\r\n",
    "\r\n",
    "[build-system]\r\n",
    "requires = [\"poetry-core>=1.0.0\"]\r\n",
    "build-backend = \"poetry.core.masonry.api\"\r\n",
    "```"
   ],
   "metadata": {}
  },
  {
   "cell_type": "markdown",
   "source": [
    "<br/><div dir=\"rtl\">\r\n",
    "    <ul><li><strong>راه اندازی پروژه (در صورتی که پروژه از قبل موجود باشه)</strong></li></ul>\r\n",
    "</div><br/>"
   ],
   "metadata": {}
  },
  {
   "cell_type": "markdown",
   "source": [
    "<div dir=\"rtl\">\r\n",
    "    به جای ساخت پروژه جدید، از <strong>Poetry </strong>برای ایجاد فایل <strong>pyproject.toml</strong> مناسب پروژه مون به صورت تعاملی، میشه استفاده کرد. دستورش به این صورته: (دستور زیر باید تو <strong>دایرکتوری اصلی (root) </strong>پروژه اجرا بشه)\r\n",
    "</div><br/>"
   ],
   "metadata": {}
  },
  {
   "cell_type": "markdown",
   "source": [
    "```poetry init```"
   ],
   "metadata": {}
  },
  {
   "cell_type": "markdown",
   "source": [
    "<br/><hr style=\"background-color: floralwhite;\" />"
   ],
   "metadata": {}
  },
  {
   "cell_type": "markdown",
   "source": [
    "<br/><div dir=\"rtl\">\r\n",
    "    <h2>تعیین وابستگی ها</h2>\r\n",
    "</div><br/>"
   ],
   "metadata": {}
  },
  {
   "cell_type": "markdown",
   "source": [
    "<div dir=\"rtl\">\r\n",
    "    اگر بخوایم وابستگی هایی رو به پروژه اضافه کنیم، دو راه وجود داره. اولین راه اینه که می تونیم تو قسمت <strong>tool.poetry.dependencies </strong> تو فایل <strong>pyproject.toml </strong>بنویسمشون:\r\n",
    "</div><br/>"
   ],
   "metadata": {}
  },
  {
   "cell_type": "markdown",
   "source": [
    "```\r\n",
    "[tool.poetry.dependencies]\r\n",
    "python = \"*\"\r\n",
    "pendulum = \"^1.4\"\r\n",
    "```"
   ],
   "metadata": {}
  },
  {
   "cell_type": "markdown",
   "source": [
    "<br/><div dir=\"rtl\">\r\n",
    "    فقط کافیه اسم و نسخه مورد نظر پکیج نوشته بشه. <strong>Poetry</strong> از این اطلاعات برای جستجوی مجموعه مناسب فایل ها در <strong>مخازن (repositories)</strong> که تو قسمت <strong>tool.poetry.repositories</strong> تعیین شده (به طور پیش فرض <strong><a href=\"https://pypi.org/\" target=\"_blank\" rel=\"noopener nofollow\">PyPI</a>)</strong>، استفاده می کنه.\r\n",
    "</div> <br/>"
   ],
   "metadata": {}
  },
  {
   "cell_type": "markdown",
   "source": [
    "<div dir=\"rtl\">\r\n",
    "    نسخه ای که به <strong>pendulum </strong>نسبت دادیم شامل هر نسخه بزرگتر یا مساوی 1.4.0 میشه. برای مطالعه بیشتر در مورد الگویی که تو این مثال برای تعیین نسخه استفاده شده، میتونید از <a href=\"https://python-poetry.org/docs/dependency-specification/\" target=\"_blank\" rel=\"noopener nofollow\">مرجع اصلی</a> استفاده کنید. به این الگو <strong>version constraints </strong>گفته میشه.\r\n",
    "</div><br/>"
   ],
   "metadata": {}
  },
  {
   "cell_type": "markdown",
   "source": [
    "<div dir=\"rtl\">\r\n",
    "    برای اعمال تغییرات و نصب وابستگی ها کافیه دستور زیر رو اجرا کنیم:\r\n",
    "</div><br/>"
   ],
   "metadata": {}
  },
  {
   "cell_type": "markdown",
   "source": [
    "```poetry install```"
   ],
   "metadata": {}
  },
  {
   "cell_type": "markdown",
   "source": [
    "<br/><div dir=\"rtl\">\r\n",
    "    راه دوم استفاده از دستور <strong>add </strong>به جای تغییر دستی فایل <strong>pyproject.toml </strong>هستش:\r\n",
    "</div><br/>"
   ],
   "metadata": {}
  },
  {
   "cell_type": "markdown",
   "source": [
    "```poetry add pendulum```"
   ],
   "metadata": {}
  },
  {
   "cell_type": "markdown",
   "source": [
    "<div dir=\"rtl\">\r\n",
    "    با این دستور، <strong>Poetry </strong>به طور خودکار نسخه مناسب رو پیدا می کنه و بسته و وابستگی های فرعیش رو تو محیط مجازی ساخته شده برای این پروژه نصب می کنه و به فایل <strong>pyproject.toml </strong>هم بسته رو اضافه میکنه (همون کارایی که دستی انجام دادیم رو خودش انجام میده).\r\n",
    "</div><br/>"
   ],
   "metadata": {}
  },
  {
   "cell_type": "markdown",
   "source": [
    "<div dir=\"rtl\">\r\n",
    "    بعد از اجرای دستور <strong>poetry install</strong> یا <strong>poetry add </strong>برای اولین بار، فایلی به اسم <strong>poetry.lock</strong> ساخته میشه. تو این فایل تمام پکیج های مورد نیاز پروژه به همراه نسخه دقیقی که دانلود شده، نوشته میشه. کاربرد این فایل اینه که وابستگی های پروژه رو، رو پکیج های دانلود شده اصطلاحا <strong>قفل (lock) </strong>میکنه.\r\n",
    "</div><br/>"
   ],
   "metadata": {}
  },
  {
   "cell_type": "markdown",
   "source": [
    "<div dir=\"rtl\">\r\n",
    "    فایل <strong>poetry.lock </strong>باعث می شه هر کسی که پروژه رو راه اندازی می کنه، از نسخه های مشابه وابستگی هایی که شما استفاده می کنید، استفاده کنه. پس اگر از <strong>کنترل نسخه ای (version control)</strong> مثل <strong>git </strong>استفاده میکنید، پیشنهاد میشه این فایل رو هم <strong>کامیت (commit)</strong> کنید.\r\n",
    "</div><br/>"
   ],
   "metadata": {}
  },
  {
   "cell_type": "markdown",
   "source": [
    "<div dir=\"rtl\">\r\n",
    "    بعد از اعمال این تغییرات محتوای فایل <strong>pyproject.toml </strong>به صورت زیر میشه:\r\n",
    "</div><br/>"
   ],
   "metadata": {}
  },
  {
   "cell_type": "markdown",
   "source": [
    "```\r\n",
    "[tool.poetry]\r\n",
    "name = \"poetry_demo\"\r\n",
    "version = \"0.1.0\"\r\n",
    "description = \"\"\r\n",
    "authors = [\"iranipy <info@iranipy.ir>\"]\r\n",
    "\r\n",
    "[tool.poetry.dependencies]\r\n",
    "python = \"^3.8\"\r\n",
    "pendulum = \"^2.1.2\"\r\n",
    "\r\n",
    "[tool.poetry.dev-dependencies] \r\n",
    "pytest = \"^3.4\"\r\n",
    "\r\n",
    "[build-system]\r\n",
    "requires = [\"poetry-core>=1.0.0\"]\r\n",
    "build-backend = \"poetry.core.masonry.api\"\r\n",
    "```"
   ],
   "metadata": {}
  },
  {
   "cell_type": "markdown",
   "source": [
    "<br/><div dir=\"rtl\">\r\n",
    "    چون فعلا قصد تست نوشتن برای پروژه مون نداریم، به ماژول <strong>pytest </strong>نیاز نداریم. دو روش برای حذف کردنش وجود داره:\r\n",
    "</div><br/>"
   ],
   "metadata": {}
  },
  {
   "cell_type": "markdown",
   "source": [
    "<br/><div dir=\"rtl\">\r\n",
    "    <ul><li>فایل <strong>pyproject.toml </strong>رو دستی تغییر بدیم و بعد از ذخیره تغییرات، دستور <strong>poetry install</strong> رو اجرا کنیم که در نهایت محتوای فایل <strong>pyproject.toml</strong> اینجوری میشه:</li></ul>\r\n",
    "</div><br/>"
   ],
   "metadata": {}
  },
  {
   "cell_type": "markdown",
   "source": [
    "```\r\n",
    "[tool.poetry]\r\n",
    "name = \"poetry_demo\"\r\n",
    "version = \"0.1.0\"\r\n",
    "description = \"\"\r\n",
    "authors = [\"iranipy <info@iranipy.ir>\"]\r\n",
    "\r\n",
    "[tool.poetry.dependencies]\r\n",
    "python = \"^3.8\"\r\n",
    "pendulum = \"^2.1.2\"\r\n",
    "\r\n",
    "[build-system]\r\n",
    "requires = [\"poetry-core>=1.0.0\"]\r\n",
    "build-backend = \"poetry.core.masonry.api\"\r\n",
    "```"
   ],
   "metadata": {}
  },
  {
   "cell_type": "markdown",
   "source": [
    "<br/><div dir=\"rtl\">\r\n",
    "    <ul><li>روش دوم استفاده از دستور <strong>poetry remove</strong> هستش که علاوه بر حذف بسته مورد نظر از محیط مجازی ساخته شده برای این پروژه، خودش فایل <strong>pyproject.toml </strong>رو هم تغییر میده:</li></ul>\r\n",
    "</div><br/>"
   ],
   "metadata": {}
  },
  {
   "cell_type": "markdown",
   "source": [
    "```poetry remove pytest```"
   ],
   "metadata": {}
  },
  {
   "cell_type": "markdown",
   "source": [
    "<br/><hr style=\"background-color: floralwhite;\" />"
   ],
   "metadata": {}
  },
  {
   "cell_type": "markdown",
   "source": [
    "<br/><div dir=\"rtl\">\r\n",
    "    <h2>ایجاد اسکریپت اصلی</h2>\r\n",
    "</div><br/>"
   ],
   "metadata": {}
  },
  {
   "cell_type": "markdown",
   "source": [
    "<div dir=\"rtl\">\r\n",
    "    اسکریپت مورد نظر رو با اسم <strong>main.py </strong>و تو پکیج <strong>poetry_demo/ </strong>با محتوای زیر می سازیم:\r\n",
    "</div><br/>"
   ],
   "metadata": {}
  },
  {
   "cell_type": "code",
   "execution_count": 1,
   "source": [
    "import pendulum\r\n",
    "\r\n",
    "def main():\r\n",
    "    now = pendulum.now(\"Europe/Paris\")\r\n",
    "    now.in_timezone(\"America/Toronto\")\r\n",
    "    now.to_iso8601_string()\r\n",
    "    print(now)\r\n",
    "\r\n",
    "if __name__ == '__main__':\r\n",
    "    main()"
   ],
   "outputs": [
    {
     "output_type": "stream",
     "name": "stdout",
     "text": [
      "2021-10-07T14:05:56.087493+02:00\n"
     ]
    }
   ],
   "metadata": {}
  },
  {
   "cell_type": "markdown",
   "source": [
    "<br/><div dir=\"rtl\">\r\n",
    "    محتوای این فایل اسکریپت ساده ای هستش که نمونه کدی از کتابخونه <strong>pendulum </strong>رو اجرا می کنه.\r\n",
    "</div><br/>"
   ],
   "metadata": {}
  },
  {
   "cell_type": "markdown",
   "source": [
    "<div dir=\"rtl\">\r\n",
    "    بعد از ساخت اسکریپت <strong>main.py</strong>، ساختار پروژه اینجوری میشه:\r\n",
    "</div><br/>"
   ],
   "metadata": {}
  },
  {
   "cell_type": "markdown",
   "source": [
    "```\r\n",
    "poetry_demo \r\n",
    "├── pyproject.toml \r\n",
    "├── poetry.lock\r\n",
    "└── poetry_demo     \r\n",
    "   ├── __init__.py\r\n",
    "   └── main.py\r\n",
    "```"
   ],
   "metadata": {}
  },
  {
   "cell_type": "markdown",
   "source": [
    "<br/><hr style=\"background-color: floralwhite;\" />"
   ],
   "metadata": {}
  },
  {
   "cell_type": "markdown",
   "source": [
    "<br/><div dir=\"rtl\">\r\n",
    "    <h2>اجرای پروژه (اسکریپت)</h2>\r\n",
    "</div><br/>"
   ],
   "metadata": {}
  },
  {
   "cell_type": "markdown",
   "source": [
    "<div dir=\"rtl\">\r\n",
    "    برای اجرای اسکریپت <strong>main.py</strong> کافیه دستور زیر رو اجرا کنیم:\r\n",
    "</div><br/>"
   ],
   "metadata": {}
  },
  {
   "cell_type": "markdown",
   "source": [
    "```poetry run python poetry_demo/main.py```"
   ],
   "metadata": {}
  },
  {
   "cell_type": "markdown",
   "source": [
    "<br/><div dir=\"rtl\">\r\n",
    "    دستور بالا اسکریپت <strong>main.py</strong> که تو پکیج <strong>poetry_demo/ </strong>هستش رو تو محیط مجازی ساخته شده برای این پروژه اجرا می کنه.\r\n",
    "</div><br/>"
   ],
   "metadata": {}
  },
  {
   "cell_type": "markdown",
   "source": [
    "<div dir=\"rtl\">\r\n",
    "    قبل استفاده از دستور <strong>poetry run</strong> برای اطمینان از اینکه تغییرات فایل <strong>pyproject.toml</strong> اعمال شده، دستور <strong>poetry install</strong> رو اجرا کنید.\r\n",
    "</div><br/>"
   ],
   "metadata": {}
  },
  {
   "cell_type": "markdown",
   "source": [
    "<hr style=\"background-color: floralwhite;\" />"
   ],
   "metadata": {}
  },
  {
   "cell_type": "markdown",
   "source": [
    "<br/><div dir=\"rtl\">\r\n",
    "    <h2>محیط مجازی (virtual environment)</h2>\r\n",
    "</div><br/>"
   ],
   "metadata": {}
  },
  {
   "cell_type": "markdown",
   "source": [
    "<div dir=\"rtl\">\r\n",
    "    ساده ترین راه برای فعال کردن محیط مجازی ساخت <strong>shell </strong>جدید با استفاده از دستور زیر هستش:\r\n",
    "</div><br/>"
   ],
   "metadata": {}
  },
  {
   "cell_type": "markdown",
   "source": [
    "```poetry shell```"
   ],
   "metadata": {}
  },
  {
   "cell_type": "markdown",
   "source": [
    "<br/><div dir=\"rtl\">\r\n",
    "    برای غیرفعال کردن محیط مجازی و خروج از این <strong>shell </strong>جدید دستور زیر رو اجرا می کنیم:\r\n",
    "</div><br/>"
   ],
   "metadata": {}
  },
  {
   "cell_type": "markdown",
   "source": [
    "```exit```"
   ],
   "metadata": {}
  },
  {
   "cell_type": "markdown",
   "source": [
    "<br/><div dir=\"rtl\">\r\n",
    "    برای غیرفعال کردن محیط مجازی بدون خروج از <strong>shell </strong>دستور زیر رو اجرا می کنیم:\r\n",
    "</div><br/>"
   ],
   "metadata": {}
  },
  {
   "cell_type": "markdown",
   "source": [
    "```deactivate```"
   ],
   "metadata": {}
  },
  {
   "cell_type": "markdown",
   "source": [
    "<br/><div dir=\"rtl\">\r\n",
    "    به این نکته هم توجه کنید که وقتی از دستور <strong>poetry run</strong> استفاده می کنیم، <strong>Poetry </strong>اسکریپت (پروژه) رو تو محیط مجازی ساخته شده برای اون پروژه اجرا می کنه. در نتیجه در اکثر اوقات به فعال کردن محیط مجازی به صورت دستی نیازی نیست.\r\n",
    "</div><br/>"
   ],
   "metadata": {}
  },
  {
   "cell_type": "markdown",
   "source": [
    "<hr style=\"background-color: floralwhite;\" />"
   ],
   "metadata": {}
  },
  {
   "cell_type": "markdown",
   "source": [
    "<br/><div dir=\"rtl\">\r\n",
    "    پایان بخش اول ....\r\n",
    "</div><br/>"
   ],
   "metadata": {}
  },
  {
   "cell_type": "markdown",
   "source": [
    "<div dir=\"rtl\">\r\n",
    "    تو این پست دیدیم که چجوری با استفاده از ابزار <strong>Poetry </strong>پروژه مون رو مدیریت کنیم. کلی کارمون رو راحت می کنه، مثل استفاده از <strong>محیط مجازی (virtual environment)</strong> که در حالت عادی برای خیلیامون راحت نیست.\r\n",
    "</div><br/>"
   ],
   "metadata": {}
  },
  {
   "cell_type": "markdown",
   "source": [
    "<div dir=\"rtl\">\r\n",
    "    امیدوارم از اولین بخش این پست استفاده کافی رو برده باشید. اگه شما هم مثل ما از خوندن مطالب پایتونی لذت میبرید، خوشحال میشیم ما رو تو شبکه های اجتماعی دنبال و در صورت داشتن انتقاد و پیشنهاد ما رو ازش مطلع کنید. لایک هم یادتون نره :)\r\n",
    "</div><br/>"
   ],
   "metadata": {}
  },
  {
   "cell_type": "markdown",
   "source": [
    "<div dir=\"rtl\">\r\n",
    "    اگه این پست براتون مفید بود منتظر بخش دوم باشید. با دنبال کردن ما، اولین نفری باشید که از انتشار مطلب جدید باخبر میشید.\r\n",
    "</div><br/>"
   ],
   "metadata": {}
  },
  {
   "cell_type": "markdown",
   "source": [
    "<hr style=\"background-color: floralwhite;\" />"
   ],
   "metadata": {}
  },
  {
   "cell_type": "markdown",
   "source": [
    "<br/><div dir=\"rtl\">\r\n",
    "    <h4><strong>حمایت از ما</strong></h4>\r\n",
    "</div><br/>"
   ],
   "metadata": {}
  },
  {
   "cell_type": "markdown",
   "source": [
    "<div dir=\"rtl\">\r\n",
    "    با دنبال کردن ما در\r\n",
    "</div>"
   ],
   "metadata": {}
  },
  {
   "cell_type": "markdown",
   "source": [
    "<div dir=\"rtl\">\r\n",
    "    <ul><li><a href=\"https://github.com/iranipy\" target=\"_blank\" rel=\"noopener nofollow\">github</a></li><li><a href=\"https://t.me/iranipy\" target=\"_blank\" rel=\"noopener nofollow\">telegram</a></li><li><a href=\"https://instagram.com/iranipy\" target=\"_blank\" rel=\"noopener nofollow\">instagram</a> </li><li><a href=\"https://twitter.com/_iranipy\" target=\"_blank\" rel=\"noopener nofollow\">twitter</a> </li></ul>\r\n",
    "</div>"
   ],
   "metadata": {}
  },
  {
   "cell_type": "markdown",
   "source": [
    "<div dir=\"rtl\">\r\n",
    "    یا کمک مالی به مبلغ دلخواه از طریق <a href=\"https://idpay.ir/iranipy\" target=\"_blank\" rel=\"noopener nofollow\">درگاه آیدی پی</a> میتونید از ما حمایت کنید.\r\n",
    "</div>"
   ],
   "metadata": {}
  },
  {
   "cell_type": "markdown",
   "source": [
    "<div dir=\"rtl\">\r\n",
    "    <strong>وب سایت (به زودی):</strong> <a href=\"https://iranipy.ir/\" target=\"_blank\" rel=\"noopener nofollow\">iranipy.ir</a>\r\n",
    "</div>"
   ],
   "metadata": {}
  }
 ],
 "metadata": {
  "orig_nbformat": 4,
  "language_info": {
   "name": "python",
   "version": "3.8.3",
   "mimetype": "text/x-python",
   "codemirror_mode": {
    "name": "ipython",
    "version": 3
   },
   "pygments_lexer": "ipython3",
   "nbconvert_exporter": "python",
   "file_extension": ".py"
  },
  "kernelspec": {
   "name": "python3",
   "display_name": "Python 3.8.3 64-bit ('base': conda)"
  },
  "interpreter": {
   "hash": "a707b6ce8c685eb936424fcc3009d4b4b7a52543c4db09380a3fc49186ceb509"
  }
 },
 "nbformat": 4,
 "nbformat_minor": 2
}